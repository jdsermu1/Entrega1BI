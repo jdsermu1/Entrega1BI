{
 "cells": [
  {
   "cell_type": "code",
   "execution_count": 44,
   "id": "juvenile-simpson",
   "metadata": {},
   "outputs": [],
   "source": [
    "import nltk \n",
    "import string\n",
    "import re\n",
    "from nltk.corpus import stopwords\n",
    "import pandas as pd\n",
    "import numpy as np\n",
    "from pandas_profiling import ProfileReport\n",
    "from sklearn.feature_extraction.text import CountVectorizer, TfidfTransformer\n",
    "from sklearn.model_selection import train_test_split\n",
    "from sklearn.tree import DecisionTreeClassifier\n",
    "from sklearn.metrics import confusion_matrix, classification_report\n",
    "from progressbar import ProgressBar\n",
    "import random"
   ]
  },
  {
   "cell_type": "code",
   "execution_count": 2,
   "id": "packed-canyon",
   "metadata": {},
   "outputs": [
    {
     "data": {
      "text/html": [
       "<div>\n",
       "<style scoped>\n",
       "    .dataframe tbody tr th:only-of-type {\n",
       "        vertical-align: middle;\n",
       "    }\n",
       "\n",
       "    .dataframe tbody tr th {\n",
       "        vertical-align: top;\n",
       "    }\n",
       "\n",
       "    .dataframe thead th {\n",
       "        text-align: right;\n",
       "    }\n",
       "</style>\n",
       "<table border=\"1\" class=\"dataframe\">\n",
       "  <thead>\n",
       "    <tr style=\"text-align: right;\">\n",
       "      <th></th>\n",
       "      <th>spam</th>\n",
       "      <th>text</th>\n",
       "    </tr>\n",
       "  </thead>\n",
       "  <tbody>\n",
       "    <tr>\n",
       "      <th>0</th>\n",
       "      <td>0</td>\n",
       "      <td>Go until jurong point, crazy.. Available only ...</td>\n",
       "    </tr>\n",
       "    <tr>\n",
       "      <th>1</th>\n",
       "      <td>0</td>\n",
       "      <td>Ok lar... Joking wif u oni...</td>\n",
       "    </tr>\n",
       "    <tr>\n",
       "      <th>2</th>\n",
       "      <td>1</td>\n",
       "      <td>Free entry in 2 a wkly comp to win FA Cup fina...</td>\n",
       "    </tr>\n",
       "    <tr>\n",
       "      <th>3</th>\n",
       "      <td>0</td>\n",
       "      <td>U dun say so early hor... U c already then say...</td>\n",
       "    </tr>\n",
       "    <tr>\n",
       "      <th>4</th>\n",
       "      <td>0</td>\n",
       "      <td>Nah I don't think he goes to usf, he lives aro...</td>\n",
       "    </tr>\n",
       "  </tbody>\n",
       "</table>\n",
       "</div>"
      ],
      "text/plain": [
       "   spam                                               text\n",
       "0     0  Go until jurong point, crazy.. Available only ...\n",
       "1     0                      Ok lar... Joking wif u oni...\n",
       "2     1  Free entry in 2 a wkly comp to win FA Cup fina...\n",
       "3     0  U dun say so early hor... U c already then say...\n",
       "4     0  Nah I don't think he goes to usf, he lives aro..."
      ]
     },
     "execution_count": 2,
     "metadata": {},
     "output_type": "execute_result"
    }
   ],
   "source": [
    "stop_words = stopwords.words(\"english\")\n",
    "df = pd.read_csv(\"./spam.csv\", header=0, encoding=\"latin-1\", names=[\"spam\", \"text\", \"1\", \"2\", \"3\"]).fillna(\"\")\n",
    "df[\"text\"] = df['text']+df[\"1\"]+df[\"2\"]+df[\"3\"]\n",
    "df.drop([\"1\", \"2\", \"3\"], axis=1, inplace=True)\n",
    "df[\"spam\"] = df[\"spam\"].map({\"ham\":0, \"spam\":1})\n",
    "df.head()"
   ]
  },
  {
   "cell_type": "code",
   "execution_count": 3,
   "id": "divine-berry",
   "metadata": {},
   "outputs": [
    {
     "data": {
      "text/html": [
       "<div>\n",
       "<style scoped>\n",
       "    .dataframe tbody tr th:only-of-type {\n",
       "        vertical-align: middle;\n",
       "    }\n",
       "\n",
       "    .dataframe tbody tr th {\n",
       "        vertical-align: top;\n",
       "    }\n",
       "\n",
       "    .dataframe thead th {\n",
       "        text-align: right;\n",
       "    }\n",
       "</style>\n",
       "<table border=\"1\" class=\"dataframe\">\n",
       "  <thead>\n",
       "    <tr style=\"text-align: right;\">\n",
       "      <th></th>\n",
       "      <th>spam</th>\n",
       "      <th>text</th>\n",
       "    </tr>\n",
       "  </thead>\n",
       "  <tbody>\n",
       "    <tr>\n",
       "      <th>0</th>\n",
       "      <td>0</td>\n",
       "      <td>go until jurong point crazi avail onli in bugi...</td>\n",
       "    </tr>\n",
       "    <tr>\n",
       "      <th>1</th>\n",
       "      <td>0</td>\n",
       "      <td>ok lar joke wif u oni</td>\n",
       "    </tr>\n",
       "    <tr>\n",
       "      <th>2</th>\n",
       "      <td>1</td>\n",
       "      <td>free entri in  a wkli comp to win fa cup final...</td>\n",
       "    </tr>\n",
       "    <tr>\n",
       "      <th>3</th>\n",
       "      <td>0</td>\n",
       "      <td>u dun say so earli hor u c alreadi then say</td>\n",
       "    </tr>\n",
       "    <tr>\n",
       "      <th>4</th>\n",
       "      <td>0</td>\n",
       "      <td>nah i dont think he goe to usf he live around ...</td>\n",
       "    </tr>\n",
       "  </tbody>\n",
       "</table>\n",
       "</div>"
      ],
      "text/plain": [
       "   spam                                               text\n",
       "0     0  go until jurong point crazi avail onli in bugi...\n",
       "1     0                              ok lar joke wif u oni\n",
       "2     1  free entri in  a wkli comp to win fa cup final...\n",
       "3     0        u dun say so earli hor u c alreadi then say\n",
       "4     0  nah i dont think he goe to usf he live around ..."
      ]
     },
     "execution_count": 3,
     "metadata": {},
     "output_type": "execute_result"
    }
   ],
   "source": [
    "def clean_text(text):\n",
    "    text = str(text).lower()\n",
    "    text = re.sub('\\[.*?\\]', '', text) \n",
    "    text = re.sub('https?://\\S+|www\\.\\S+', '', text)\n",
    "    text = re.sub('<.*?>+', '', text)\n",
    "    text = re.sub('[%s]' % re.escape(string.punctuation), '', text)\n",
    "    text = re.sub('\\n', '', text)\n",
    "    text = re.sub('\\w*\\d\\w*', '', text)\n",
    "    for word in stop_words:\n",
    "        text.replace(word, \"\")\n",
    "    stemmer = nltk.SnowballStemmer(\"english\")\n",
    "    text = ' '.join(stemmer.stem(word) for word in text.split(' '))\n",
    "    return text\n",
    "    \n",
    "    \n",
    "df['text'] = df['text'].apply(clean_text)\n",
    "df.head()"
   ]
  },
  {
   "cell_type": "code",
   "execution_count": 4,
   "id": "complicated-breeding",
   "metadata": {},
   "outputs": [],
   "source": [
    "df_temp, df_test = train_test_split(df, test_size=.2, stratify=df[\"spam\"])\n",
    "df_train, df_validation = train_test_split(df_temp, test_size=1.0/8.0, stratify=df_temp[\"spam\"])\n",
    "df_train = df_train.copy()\n",
    "df_test = df_test.copy()\n",
    "df_validation = df_validation.copy()\n",
    "del df_temp"
   ]
  },
  {
   "cell_type": "code",
   "execution_count": 5,
   "id": "split-parts",
   "metadata": {},
   "outputs": [
    {
     "data": {
      "text/html": [
       "<div>\n",
       "<style scoped>\n",
       "    .dataframe tbody tr th:only-of-type {\n",
       "        vertical-align: middle;\n",
       "    }\n",
       "\n",
       "    .dataframe tbody tr th {\n",
       "        vertical-align: top;\n",
       "    }\n",
       "\n",
       "    .dataframe thead th {\n",
       "        text-align: right;\n",
       "    }\n",
       "</style>\n",
       "<table border=\"1\" class=\"dataframe\">\n",
       "  <thead>\n",
       "    <tr style=\"text-align: right;\">\n",
       "      <th></th>\n",
       "      <th>spam</th>\n",
       "      <th>text</th>\n",
       "    </tr>\n",
       "  </thead>\n",
       "  <tbody>\n",
       "    <tr>\n",
       "      <th>801</th>\n",
       "      <td>0</td>\n",
       "      <td>appt is at lttimegt am not my fault u dont lis...</td>\n",
       "    </tr>\n",
       "    <tr>\n",
       "      <th>4459</th>\n",
       "      <td>0</td>\n",
       "      <td>this is wish you a great day moji told me abou...</td>\n",
       "    </tr>\n",
       "    <tr>\n",
       "      <th>4852</th>\n",
       "      <td>0</td>\n",
       "      <td>im fine hope you are also</td>\n",
       "    </tr>\n",
       "    <tr>\n",
       "      <th>1647</th>\n",
       "      <td>0</td>\n",
       "      <td>even  v good if somewhat event laden will fill...</td>\n",
       "    </tr>\n",
       "    <tr>\n",
       "      <th>1589</th>\n",
       "      <td>0</td>\n",
       "      <td>i love you you set my soul on fire it is not j...</td>\n",
       "    </tr>\n",
       "  </tbody>\n",
       "</table>\n",
       "</div>"
      ],
      "text/plain": [
       "      spam                                               text\n",
       "801      0  appt is at lttimegt am not my fault u dont lis...\n",
       "4459     0  this is wish you a great day moji told me abou...\n",
       "4852     0                          im fine hope you are also\n",
       "1647     0  even  v good if somewhat event laden will fill...\n",
       "1589     0  i love you you set my soul on fire it is not j..."
      ]
     },
     "execution_count": 5,
     "metadata": {},
     "output_type": "execute_result"
    }
   ],
   "source": [
    "df_train.head()"
   ]
  },
  {
   "cell_type": "code",
   "execution_count": 6,
   "id": "portuguese-quest",
   "metadata": {},
   "outputs": [],
   "source": [
    "vect = CountVectorizer()\n",
    "vect.fit(df_train[\"text\"])\n",
    "train_encoded = vect.transform(df_train[\"text\"])\n",
    "test_encoded = vect.transform(df_test[\"text\"])\n",
    "validation_encoded = vect.transform(df_validation[\"text\"])"
   ]
  },
  {
   "cell_type": "code",
   "execution_count": null,
   "id": "alike-negative",
   "metadata": {},
   "outputs": [],
   "source": [
    "bar = ProgressBar()\n",
    "def iterate(train, test, validation, n = 1000):\n",
    "    for i in bar(range(n)):\n",
    "        run = {}\n",
    "        run[\"binary\"] = random.randint(0,1)\n",
    "        vect = CountVectorizer(binary=run[\"binary\"])\n",
    "        train_encoded = vect.transform(train[\"text\"])\n",
    "        test_encoded = vect.transform(test[\"text\"])\n",
    "        validation_encoded = vect.transform(validation[\"text\"])\n",
    "        \n",
    "        run[\"tfidf\"] = random.randint(0,1) if not binary else 0\n",
    "        if run[\"tfidf\"]:\n",
    "            tfidf_transformer = TfidfTransformer()\n",
    "            tfidf_transformer.fit(train_encoded)\n",
    "        \n",
    "        \n",
    "    \n",
    "    \n",
    "    \n",
    "# tfidf_transformer = TfidfTransformer()\n",
    "# tfidf_transformer.fit(x_train_dtm)\n",
    "# x_train_tfidf = tfidf_transformer.transform(x_train_dtm)"
   ]
  },
  {
   "cell_type": "code",
   "execution_count": 9,
   "id": "seasonal-philip",
   "metadata": {},
   "outputs": [
    {
     "data": {
      "text/plain": [
       "DecisionTreeClassifier()"
      ]
     },
     "execution_count": 9,
     "metadata": {},
     "output_type": "execute_result"
    }
   ],
   "source": [
    "clf = DecisionTreeClassifier(criterion=\"gini\", max_depth=None, min_samples_split=2)"
   ]
  },
  {
   "cell_type": "code",
   "execution_count": null,
   "id": "rational-somalia",
   "metadata": {},
   "outputs": [],
   "source": [
    "clf.fit(train_encoded, df_train[\"spam\"])"
   ]
  },
  {
   "cell_type": "code",
   "execution_count": 41,
   "id": "distant-england",
   "metadata": {},
   "outputs": [
    {
     "data": {
      "text/plain": [
       "{'confusion_matrix': array([[3376,    0],\n",
       "        [   0,  523]]),\n",
       " 'report': {'0': {'precision': 1.0,\n",
       "   'recall': 1.0,\n",
       "   'f1-score': 1.0,\n",
       "   'support': 3376},\n",
       "  '1': {'precision': 1.0, 'recall': 1.0, 'f1-score': 1.0, 'support': 523},\n",
       "  'accuracy': 1.0,\n",
       "  'macro avg': {'precision': 1.0,\n",
       "   'recall': 1.0,\n",
       "   'f1-score': 1.0,\n",
       "   'support': 3899},\n",
       "  'weighted avg': {'precision': 1.0,\n",
       "   'recall': 1.0,\n",
       "   'f1-score': 1.0,\n",
       "   'support': 3899}}}"
      ]
     },
     "execution_count": 41,
     "metadata": {},
     "output_type": "execute_result"
    }
   ],
   "source": [
    "train_info = {\"confusion_matrix\": confusion_matrix(df_train[\"spam\"], clf.predict(train_encoded)), \n",
    "              \"report\": classification_report(df_train[\"spam\"], clf.predict(train_encoded), output_dict=True)}\n",
    "train_info"
   ]
  },
  {
   "cell_type": "code",
   "execution_count": 39,
   "id": "single-midnight",
   "metadata": {},
   "outputs": [
    {
     "data": {
      "text/plain": [
       "{'confusion matrix': array([[468,  15],\n",
       "        [ 12,  63]]),\n",
       " 'report': {'0': {'precision': 0.975,\n",
       "   'recall': 0.968944099378882,\n",
       "   'f1-score': 0.9719626168224299,\n",
       "   'support': 483},\n",
       "  '1': {'precision': 0.8076923076923077,\n",
       "   'recall': 0.84,\n",
       "   'f1-score': 0.8235294117647058,\n",
       "   'support': 75},\n",
       "  'accuracy': 0.9516129032258065,\n",
       "  'macro avg': {'precision': 0.8913461538461538,\n",
       "   'recall': 0.904472049689441,\n",
       "   'f1-score': 0.8977460142935678,\n",
       "   'support': 558},\n",
       "  'weighted avg': {'precision': 0.9525124069478907,\n",
       "   'recall': 0.9516129032258065,\n",
       "   'f1-score': 0.952011917217897,\n",
       "   'support': 558}}}"
      ]
     },
     "execution_count": 39,
     "metadata": {},
     "output_type": "execute_result"
    }
   ],
   "source": [
    "validation_info = {\"confusion matrix\": confusion_matrix(df_validation[\"spam\"], clf.predict(validation_encoded)), \n",
    "                   \"report\": classification_report(df_validation[\"spam\"], clf.predict(validation_encoded), output_dict=True)}\n",
    "validation_info"
   ]
  },
  {
   "cell_type": "code",
   "execution_count": 40,
   "id": "looking-rally",
   "metadata": {},
   "outputs": [
    {
     "data": {
      "text/plain": [
       "{'confusion matrix': array([[945,  21],\n",
       "        [ 25, 124]]),\n",
       " 'report': {'0': {'precision': 0.9742268041237113,\n",
       "   'recall': 0.9782608695652174,\n",
       "   'f1-score': 0.9762396694214875,\n",
       "   'support': 966},\n",
       "  '1': {'precision': 0.8551724137931035,\n",
       "   'recall': 0.8322147651006712,\n",
       "   'f1-score': 0.8435374149659864,\n",
       "   'support': 149},\n",
       "  'accuracy': 0.9587443946188341,\n",
       "  'macro avg': {'precision': 0.9146996089584074,\n",
       "   'recall': 0.9052378173329443,\n",
       "   'f1-score': 0.909888542193737,\n",
       "   'support': 1115},\n",
       "  'weighted avg': {'precision': 0.9583172936669755,\n",
       "   'recall': 0.9587443946188341,\n",
       "   'f1-score': 0.9585063636691382,\n",
       "   'support': 1115}}}"
      ]
     },
     "execution_count": 40,
     "metadata": {},
     "output_type": "execute_result"
    }
   ],
   "source": [
    "test_info = {\"confusion matrix\": confusion_matrix(df_test[\"spam\"], clf.predict(test_encoded)),\n",
    "             \"report\": classification_report(df_test[\"spam\"], clf.predict(test_encoded), output_dict=True)}\n",
    "test_info"
   ]
  },
  {
   "cell_type": "code",
   "execution_count": 33,
   "id": "quantitative-officer",
   "metadata": {},
   "outputs": [
    {
     "data": {
      "text/plain": [
       "58"
      ]
     },
     "execution_count": 33,
     "metadata": {},
     "output_type": "execute_result"
    }
   ],
   "source": [
    "clf.get_depth()"
   ]
  },
  {
   "cell_type": "code",
   "execution_count": null,
   "id": "distinguished-affiliation",
   "metadata": {},
   "outputs": [],
   "source": [
    "\n"
   ]
  }
 ],
 "metadata": {
  "kernelspec": {
   "display_name": "Python 3",
   "language": "python",
   "name": "python3"
  },
  "language_info": {
   "codemirror_mode": {
    "name": "ipython",
    "version": 3
   },
   "file_extension": ".py",
   "mimetype": "text/x-python",
   "name": "python",
   "nbconvert_exporter": "python",
   "pygments_lexer": "ipython3",
   "version": "3.8.0"
  }
 },
 "nbformat": 4,
 "nbformat_minor": 5
}
