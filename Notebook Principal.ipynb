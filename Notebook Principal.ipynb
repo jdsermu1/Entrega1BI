{
 "cells": [
  {
   "cell_type": "markdown",
   "id": "infinite-england",
   "metadata": {},
   "source": [
    "# Entrega 1: Proyecto Inteligencia de Negocio\n",
    "Para la primera entrega del proyecto se realizo un analisis de texto para clasificar mensajes SMS o de texto que fuera spam  no. Con tal proposito se relaizaron las siguientes operaciones sobre el conjunto de datos."
   ]
  },
  {
   "cell_type": "markdown",
   "id": "municipal-occasions",
   "metadata": {},
   "source": [
    "## Importaciones"
   ]
  },
  {
   "cell_type": "code",
   "execution_count": 11,
   "id": "professional-roman",
   "metadata": {},
   "outputs": [],
   "source": [
    "import nltk \n",
    "import graphviz \n",
    "import string\n",
    "import re\n",
    "from matplotlib import pyplot as plt\n",
    "from nltk.corpus import stopwords\n",
    "import pandas as pd\n",
    "import numpy as np\n",
    "from pandas_profiling import ProfileReport\n",
    "from sklearn.feature_extraction.text import CountVectorizer, TfidfTransformer\n",
    "from sklearn.model_selection import train_test_split\n",
    "from sklearn.tree import DecisionTreeClassifier, plot_tree, export_graphviz\n",
    "from sklearn.metrics import confusion_matrix, classification_report, plot_confusion_matrix\n",
    "from progressbar import ProgressBar\n",
    "import random\n",
    "from imblearn.over_sampling import RandomOverSampler, SMOTE"
   ]
  },
  {
   "cell_type": "markdown",
   "id": "normal-relations",
   "metadata": {},
   "source": [
    "## Modelo y Entrenamiento\n",
    "Lo primero que se realizo fueron las particiones para los conjuntos de entrenamiento y prueba."
   ]
  },
  {
   "cell_type": "code",
   "execution_count": 2,
   "id": "spectacular-starter",
   "metadata": {},
   "outputs": [],
   "source": [
    "df_train, df_test = pd.read_csv(\"./train.csv\"), pd.read_csv(\"./test.csv\")"
   ]
  },
  {
   "cell_type": "markdown",
   "id": "manufactured-motivation",
   "metadata": {},
   "source": [
    "## Tokenizacion\n",
    "Luego se tokenizaron las palabras de los documentos del conjunto de entreno y a partir de esta tokenizacion se aplico a la los otros conjuntos. Ciertas decisiones de diseño se tomaron en esta parte del modelamiento como se utilizo una estrategia binaria para generar la bolsa de palabras y se opto por no utilizar una estrategia TF-IDF, esto porque los resultados eran peores. Asi mismo, una vez reazada la tokenizacion a los diferentes conjuntos no se realizo un sobremuestreo de la clase minoritaria del conjunto de entrenamiento. Todo esto por los resultados obtenidos en el cuaderno de validacion cruzada. "
   ]
  },
  {
   "cell_type": "code",
   "execution_count": 3,
   "id": "romantic-correlation",
   "metadata": {},
   "outputs": [],
   "source": [
    "vect = CountVectorizer(binary=True)\n",
    "vect.fit(df_train[\"text\"])\n",
    "train_encoded = vect.transform(df_train[\"text\"])\n",
    "test_encoded = vect.transform(df_test[\"text\"])"
   ]
  },
  {
   "cell_type": "code",
   "execution_count": 88,
   "id": "collect-estate",
   "metadata": {},
   "outputs": [],
   "source": [
    "clf = DecisionTreeClassifier(criterion=\"gini\", max_depth=19)\n",
    "clf.fit(train_encoded, df_train[\"spam\"])\n",
    "train_info = {\"confusion_matrix\": confusion_matrix(df_train[\"spam\"], clf.predict(train_encoded)), \n",
    "              \"report\": classification_report(df_train[\"spam\"], clf.predict(train_encoded), output_dict=True)}\n",
    "test_info = {\"confusion matrix\": confusion_matrix(df_test[\"spam\"], clf.predict(test_encoded)),\n",
    "             \"report\": classification_report(df_test[\"spam\"], clf.predict(test_encoded), output_dict=True)}"
   ]
  },
  {
   "cell_type": "markdown",
   "id": "apart-fifty",
   "metadata": {},
   "source": [
    "Finalmente se calculo la precision, sensibilidad, procentaje de acierto y matrices de confusion para los diferentes conjuntos. Como se puede ver a continuacion se esta incurriendo en sobre muestro ya que las metricas para el conjunto de entreno estan cerca a 1 mientras que para el conjunto de prueba estan cerca de .9, sin embargo este continua siendo un buen resultado lo que implica que el modelo si es capaz de generalizar a muestras de las que no fue entrenado. Las graficas de las matrices de confusion estan en el siguientes orden: entrenamiento y prueba. Ahora, dado que en la vida real se busca simplificar al maximo los modelos tanto por facilidad de entendimiento como para facilitar la generalizacion a nuevos datos en el futuro se redujo la profundidad del arbol a solo 20 niveles (comparado al 192 del mejor modelo). "
   ]
  },
  {
   "cell_type": "code",
   "execution_count": 89,
   "id": "robust-insight",
   "metadata": {},
   "outputs": [
    {
     "data": {
      "text/plain": [
       "({'0': {'precision': 0.9854368932038835,\n",
       "   'recall': 1.0,\n",
       "   'f1-score': 0.9926650366748166,\n",
       "   'support': 3857},\n",
       "  '1': {'precision': 1.0,\n",
       "   'recall': 0.9046822742474916,\n",
       "   'f1-score': 0.9499561018437226,\n",
       "   'support': 598},\n",
       "  'accuracy': 0.9872053872053872,\n",
       "  'macro avg': {'precision': 0.9927184466019418,\n",
       "   'recall': 0.9523411371237458,\n",
       "   'f1-score': 0.9713105692592696,\n",
       "   'support': 4455},\n",
       "  'weighted avg': {'precision': 0.9873917165179301,\n",
       "   'recall': 0.9872053872053872,\n",
       "   'f1-score': 0.9869321650633702,\n",
       "   'support': 4455}},\n",
       " {'0': {'precision': 0.9795081967213115,\n",
       "   'recall': 0.9906735751295337,\n",
       "   'f1-score': 0.985059247810407,\n",
       "   'support': 965},\n",
       "  '1': {'precision': 0.9347826086956522,\n",
       "   'recall': 0.8657718120805369,\n",
       "   'f1-score': 0.8989547038327527,\n",
       "   'support': 149},\n",
       "  'accuracy': 0.973967684021544,\n",
       "  'macro avg': {'precision': 0.9571454027084818,\n",
       "   'recall': 0.9282226936050353,\n",
       "   'f1-score': 0.9420069758215799,\n",
       "   'support': 1114},\n",
       "  'weighted avg': {'precision': 0.9735260489512728,\n",
       "   'recall': 0.973967684021544,\n",
       "   'f1-score': 0.9735425718205771,\n",
       "   'support': 1114}})"
      ]
     },
     "execution_count": 89,
     "metadata": {},
     "output_type": "execute_result"
    }
   ],
   "source": [
    "train_info[\"report\"], test_info[\"report\"]"
   ]
  },
  {
   "cell_type": "code",
   "execution_count": 90,
   "id": "danish-distribution",
   "metadata": {},
   "outputs": [
    {
     "data": {
      "text/plain": [
       "<sklearn.metrics._plot.confusion_matrix.ConfusionMatrixDisplay at 0x7f78f9a6aee0>"
      ]
     },
     "execution_count": 90,
     "metadata": {},
     "output_type": "execute_result"
    },
    {
     "data": {
      "image/png": "[encoded data removed]",
      "text/plain": [
       "<Figure size 432x288 with 2 Axes>"
      ]
     },
     "metadata": {
      "needs_background": "light"
     },
     "output_type": "display_data"
    },
    {
     "data": {
      "image/png": "[encoded data removed]",
      "text/plain": [
       "<Figure size 432x288 with 2 Axes>"
      ]
     },
     "metadata": {
      "needs_background": "light"
     },
     "output_type": "display_data"
    }
   ],
   "source": [
    "plot_confusion_matrix(clf, train_encoded, df_train[\"spam\"])\n",
    "plot_confusion_matrix(clf, test_encoded, df_test[\"spam\"])"
   ]
  },
  {
   "cell_type": "code",
   "execution_count": 92,
   "id": "junior-venice",
   "metadata": {},
   "outputs": [],
   "source": [
    "dot_data = export_graphviz(clf, out_file=None) \n",
    "graph = graphviz.Source(dot_data) \n",
    "graph.render(\"iris\") \n",
    "dot_data =export_graphviz(clf, out_file=None,   \n",
    "                     filled=True, rounded=True,  \n",
    "                      special_characters=True)  \n",
    "graph = graphviz.Source(dot_data)"
   ]
  }
 ],
 "metadata": {
  "kernelspec": {
   "display_name": "Python 3",
   "language": "python",
   "name": "python3"
  },
  "language_info": {
   "codemirror_mode": {
    "name": "ipython",
    "version": 3
   },
   "file_extension": ".py",
   "mimetype": "text/x-python",
   "name": "python",
   "nbconvert_exporter": "python",
   "pygments_lexer": "ipython3",
   "version": "3.8.0"
  }
 },
 "nbformat": 4,
 "nbformat_minor": 5
}
