{
 "cells": [
  {
   "cell_type": "markdown",
   "id": "sharp-motorcycle",
   "metadata": {},
   "source": [
    "# Entrega 1: Proyecto Inteligencia de Negocio\n",
    "Para la primera entrega del proyecto se realizo un analisis de texto para clasificar mensajes SMS o de texto que fuera spam  no. Con tal proposito se relaizaron las siguientes operaciones sobre el conjunto de datos."
   ]
  },
  {
   "cell_type": "markdown",
   "id": "small-johnson",
   "metadata": {},
   "source": [
    "## Importaciones"
   ]
  },
  {
   "cell_type": "code",
   "execution_count": 1,
   "id": "respective-resolution",
   "metadata": {},
   "outputs": [],
   "source": [
    "import nltk \n",
    "import string\n",
    "import re\n",
    "from nltk.corpus import stopwords\n",
    "import pandas as pd\n",
    "import numpy as np\n",
    "from pandas_profiling import ProfileReport\n",
    "from sklearn.feature_extraction.text import CountVectorizer, TfidfTransformer\n",
    "from sklearn.model_selection import train_test_split\n",
    "from sklearn.tree import DecisionTreeClassifier\n",
    "from sklearn.metrics import confusion_matrix, classification_report, plot_confusion_matrix\n",
    "from progressbar import ProgressBar\n",
    "import random\n",
    "from imblearn.over_sampling import RandomOverSampler, SMOTE"
   ]
  },
  {
   "cell_type": "markdown",
   "id": "subject-constitutional",
   "metadata": {},
   "source": [
    "## Modelo y Entrenamiento\n",
    "Lo primero que se realizo fueron las particiones para los conjuntos de entrenamiento y prueba."
   ]
  },
  {
   "cell_type": "code",
   "execution_count": 2,
   "id": "offensive-petite",
   "metadata": {},
   "outputs": [],
   "source": [
    "df_train, df_test = pd.read_csv(\"./train.csv\"), pd.read_csv(\"./test.csv\")"
   ]
  },
  {
   "cell_type": "markdown",
   "id": "silent-buyer",
   "metadata": {},
   "source": [
    "## Tokenizacion\n",
    "Luego se tokenizaron las palabras de los documentos del conjunto de entreno y a partir de esta tokenizacion se aplico a la los otros conjuntos. Ciertas decisiones de diseño se tomaron en esta parte del modelamiento como se utilizo una estrategia binaria para generar la bolsa de palabras y se opto por no utilizar una estrategia TF-IDF, esto porque los resultados eran peores. Asi mismo, una vez reazada la tokenizacion a los diferentes conjuntos no se realizo un sobremuestreo de la clase minoritaria del conjunto de entrenamiento. Todo esto por los resultados obtenidos en el cuaderno de validacion cruzada. "
   ]
  },
  {
   "cell_type": "code",
   "execution_count": 3,
   "id": "silent-sitting",
   "metadata": {},
   "outputs": [],
   "source": [
    "vect = CountVectorizer(binary=True)\n",
    "vect.fit(df_train[\"text\"])\n",
    "train_encoded = vect.transform(df_train[\"text\"])\n",
    "test_encoded = vect.transform(df_test[\"text\"])"
   ]
  },
  {
   "cell_type": "code",
   "execution_count": 4,
   "id": "abroad-invitation",
   "metadata": {},
   "outputs": [],
   "source": [
    "clf = DecisionTreeClassifier(criterion=\"gini\", max_depth=196)\n",
    "clf.fit(train_encoded, df_train[\"spam\"])\n",
    "train_info = {\"confusion_matrix\": confusion_matrix(df_train[\"spam\"], clf.predict(train_encoded)), \n",
    "              \"report\": classification_report(df_train[\"spam\"], clf.predict(train_encoded), output_dict=True)}\n",
    "test_info = {\"confusion matrix\": confusion_matrix(df_test[\"spam\"], clf.predict(test_encoded)),\n",
    "             \"report\": classification_report(df_test[\"spam\"], clf.predict(test_encoded), output_dict=True)}"
   ]
  },
  {
   "cell_type": "markdown",
   "id": "protecting-camcorder",
   "metadata": {},
   "source": [
    "Finalmente se calculo la precision, sensibilidad, procentaje de acierto y matrices de confusion para los diferentes copnjuntos. Como se puede ver a continuacion se esta incurriendo en sobre muestro ya que las metricas para el conjunto de entreno estan cerca a 1 mientras que para el conjunto de prueba estan cerca de .9, sin embargo este continua siendo un buen resultado lo que implica que el modelo si es capaz de generalizar a muestras de las que no fue entrenado. Las graficas de las matrices de confusion estan en el siguientes orden: entrenamiento y prueba. "
   ]
  },
  {
   "cell_type": "code",
   "execution_count": 5,
   "id": "revolutionary-printer",
   "metadata": {},
   "outputs": [
    {
     "data": {
      "text/plain": [
       "({'0': {'precision': 0.9997407983411094,\n",
       "   'recall': 1.0,\n",
       "   'f1-score': 0.9998703823720027,\n",
       "   'support': 3857},\n",
       "  '1': {'precision': 1.0,\n",
       "   'recall': 0.9983277591973244,\n",
       "   'f1-score': 0.9991631799163181,\n",
       "   'support': 598},\n",
       "  'accuracy': 0.9997755331088665,\n",
       "  'macro avg': {'precision': 0.9998703991705546,\n",
       "   'recall': 0.9991638795986622,\n",
       "   'f1-score': 0.9995167811441603,\n",
       "   'support': 4455},\n",
       "  'weighted avg': {'precision': 0.999775591291057,\n",
       "   'recall': 0.9997755331088665,\n",
       "   'f1-score': 0.9997754537370982,\n",
       "   'support': 4455}},\n",
       " {'0': {'precision': 0.9815195071868583,\n",
       "   'recall': 0.9906735751295337,\n",
       "   'f1-score': 0.9860752965446106,\n",
       "   'support': 965},\n",
       "  '1': {'precision': 0.9357142857142857,\n",
       "   'recall': 0.8791946308724832,\n",
       "   'f1-score': 0.9065743944636678,\n",
       "   'support': 149},\n",
       "  'accuracy': 0.9757630161579892,\n",
       "  'macro avg': {'precision': 0.958616896450572,\n",
       "   'recall': 0.9349341030010084,\n",
       "   'f1-score': 0.9463248455041392,\n",
       "   'support': 1114},\n",
       "  'weighted avg': {'precision': 0.9753929560204191,\n",
       "   'recall': 0.9757630161579892,\n",
       "   'f1-score': 0.9754418724781291,\n",
       "   'support': 1114}})"
      ]
     },
     "execution_count": 5,
     "metadata": {},
     "output_type": "execute_result"
    }
   ],
   "source": [
    "train_info[\"report\"], test_info[\"report\"]"
   ]
  },
  {
   "cell_type": "code",
   "execution_count": 6,
   "id": "located-section",
   "metadata": {},
   "outputs": [
    {
     "data": {
      "text/plain": [
       "<sklearn.metrics._plot.confusion_matrix.ConfusionMatrixDisplay at 0x7fdc8a9d8580>"
      ]
     },
     "execution_count": 6,
     "metadata": {},
     "output_type": "execute_result"
    },
    {
     "data": {
      "image/png": "[encoded data removed]",
      "text/plain": [
       "<Figure size 432x288 with 2 Axes>"
      ]
     },
     "metadata": {
      "needs_background": "light"
     },
     "output_type": "display_data"
    },
    {
     "data": {
      "image/png": "[encoded data removed]",
      "text/plain": [
       "<Figure size 432x288 with 2 Axes>"
      ]
     },
     "metadata": {
      "needs_background": "light"
     },
     "output_type": "display_data"
    }
   ],
   "source": [
    "plot_confusion_matrix(clf, train_encoded, df_train[\"spam\"])\n",
    "plot_confusion_matrix(clf, test_encoded, df_test[\"spam\"])"
   ]
  }
 ],
 "metadata": {
  "kernelspec": {
   "display_name": "Python 3",
   "language": "python",
   "name": "python3"
  },
  "language_info": {
   "codemirror_mode": {
    "name": "ipython",
    "version": 3
   },
   "file_extension": ".py",
   "mimetype": "text/x-python",
   "name": "python",
   "nbconvert_exporter": "python",
   "pygments_lexer": "ipython3",
   "version": "3.8.0"
  }
 },
 "nbformat": 4,
 "nbformat_minor": 5
}
